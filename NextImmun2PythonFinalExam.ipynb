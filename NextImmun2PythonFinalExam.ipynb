{
  "nbformat": 4,
  "nbformat_minor": 0,
  "metadata": {
    "colab": {
      "provenance": []
    },
    "kernelspec": {
      "name": "python3",
      "display_name": "Python 3"
    },
    "language_info": {
      "name": "python"
    }
  },
  "cells": [
    {
      "cell_type": "markdown",
      "source": [
        "## This Jupyter Notebook serves as a demo Workflow of cleaning and exploring IgE measurements with Pax for an allergen panel involve testing blood samples to detect Immunoglobulin E (IgE) antibody levels against specific allergens using the Pax system.\n",
        "\n",
        "Fill in the empty code cells below. Feel free to add more code cells if needed."
      ],
      "metadata": {
        "id": "9Wpep-sI3ojO"
      }
    },
    {
      "cell_type": "markdown",
      "source": [
        "### Data upload:\n",
        "- Use the upload button on the left to upload the file: 'PAX_Data.xlsx'\n",
        "- By default the data should have been upload to into the folder '/content'"
      ],
      "metadata": {
        "id": "EEGRQs2QEGs0"
      }
    },
    {
      "cell_type": "markdown",
      "source": [
        "## Load the required modules\n",
        "- Just run the following code-cell to load all modules needed for this exercise"
      ],
      "metadata": {
        "id": "apC-TfeGEkuC"
      }
    },
    {
      "cell_type": "code",
      "execution_count": null,
      "metadata": {
        "id": "l-jtRZ_b8J1K"
      },
      "outputs": [],
      "source": [
        "import os\n",
        "import pandas as pd\n",
        "import numpy as np"
      ]
    },
    {
      "cell_type": "markdown",
      "source": [
        "### Checking the working directory:\n",
        "- use 'os.getcwd()' method to check for the current working directory.\n",
        "- If you are using Google Colab, the default working directory should be the folder 'content'\n",
        "- If not, use the 'os. chdir(<path>)' method to make sure to set the working directory"
      ],
      "metadata": {
        "id": "b2m0MQK8C6JK"
      }
    },
    {
      "cell_type": "code",
      "source": [
        "os.getcwd()"
      ],
      "metadata": {
        "id": "jCGpnwB79b_P"
      },
      "execution_count": null,
      "outputs": []
    },
    {
      "cell_type": "markdown",
      "source": [
        "## Read the excel file\n",
        "- if you are not using Google Colab, make sure to set the path to your data file correctly: \\'<FILE-PATH\\>/PAX_Data.xlsx'\n",
        "- use: 'Sheet1' as sheet_name\n",
        "- ignore the header: header=None\n",
        "- assign the loaded data to a variable called: df\n"
      ],
      "metadata": {
        "id": "NvsWxy8F9-uy"
      }
    },
    {
      "cell_type": "code",
      "source": [],
      "metadata": {
        "id": "bF0WoJbC8d02"
      },
      "execution_count": null,
      "outputs": []
    },
    {
      "cell_type": "markdown",
      "source": [
        "### Print the 'shape' of the dataframe"
      ],
      "metadata": {
        "id": "M6yjtn4WGiez"
      }
    },
    {
      "cell_type": "code",
      "source": [],
      "metadata": {
        "id": "BbpLo_WBGcYY"
      },
      "execution_count": null,
      "outputs": []
    },
    {
      "cell_type": "markdown",
      "source": [
        "### Print the number of rows:"
      ],
      "metadata": {
        "id": "OcRJcshNI6SG"
      }
    },
    {
      "cell_type": "code",
      "source": [],
      "metadata": {
        "id": "npdOHFeOI_0B"
      },
      "execution_count": null,
      "outputs": []
    },
    {
      "cell_type": "markdown",
      "source": [
        "### Use the 'head' method to have a look at the first 10 rows of the table"
      ],
      "metadata": {
        "id": "FIQmZ_3i_ex0"
      }
    },
    {
      "cell_type": "code",
      "source": [],
      "metadata": {
        "id": "p0HlMDZF9D-5"
      },
      "execution_count": null,
      "outputs": []
    },
    {
      "cell_type": "markdown",
      "source": [
        "### Splitting the Data:\n",
        "- As you can see, row 0 to 4 contains the metadata of the experiment\n",
        "- Row 5 to end contains the measured expression data of Allergens\n",
        "\n",
        "Now, we need to split the data into:\n",
        "- Metadata and\n",
        "- Expression data\n",
        "\n",
        "Check the documentation of the pandas method 'iloc'\n",
        "- Split the data, row 0 to 4 and assing it to a variable called: md\n",
        "- From row 5 to end, assing the expression data to a variable called: expr"
      ],
      "metadata": {
        "id": "FGDpXLD4JKbf"
      }
    },
    {
      "cell_type": "code",
      "source": [],
      "metadata": {
        "id": "GIfzdrCN95Q6"
      },
      "execution_count": null,
      "outputs": []
    },
    {
      "cell_type": "code",
      "source": [],
      "metadata": {
        "id": "q9C8YMSA_u54"
      },
      "execution_count": null,
      "outputs": []
    },
    {
      "cell_type": "markdown",
      "source": [
        "### Print the 'shape' of each new table"
      ],
      "metadata": {
        "id": "YP7i_N0vLXZl"
      }
    },
    {
      "cell_type": "code",
      "source": [],
      "metadata": {
        "id": "ud1T07b-KXmM"
      },
      "execution_count": null,
      "outputs": []
    },
    {
      "cell_type": "markdown",
      "source": [
        "### Use the 'head' method to inspect the expr table\n"
      ],
      "metadata": {
        "id": "uFK6FwvxMVtV"
      }
    },
    {
      "cell_type": "code",
      "source": [],
      "metadata": {
        "id": "UFm5WkVVKiy0"
      },
      "execution_count": null,
      "outputs": []
    },
    {
      "cell_type": "markdown",
      "source": [
        "As you can see column 0 contains the name of the Allergens\n",
        "\n",
        "- Set the Allergen names as the index of the table (similar to rownames in R)example:   'expr.index = ...'\n",
        "- 'drop' the column 0 and override the current variable"
      ],
      "metadata": {
        "id": "6DLnuds7NaeC"
      }
    },
    {
      "cell_type": "code",
      "source": [],
      "metadata": {
        "id": "ZhLA3hNhMJCh"
      },
      "execution_count": null,
      "outputs": []
    },
    {
      "cell_type": "code",
      "source": [],
      "metadata": {
        "id": "ZI85erLrNF_s"
      },
      "execution_count": null,
      "outputs": []
    },
    {
      "cell_type": "markdown",
      "source": [
        "### Cleaning the Metadata\n",
        "- Use 'head' to look into the metadata\n",
        "Note that we want to use the rows as columns, therefore:\n",
        "- Transpose the metadata\n",
        "- Change the table: row 0 should be the column names"
      ],
      "metadata": {
        "id": "ePM108KeRjfe"
      }
    },
    {
      "cell_type": "code",
      "source": [],
      "metadata": {
        "id": "8L0bNeDfdpKN"
      },
      "execution_count": null,
      "outputs": []
    },
    {
      "cell_type": "code",
      "source": [],
      "metadata": {
        "id": "YtnioXHEQWPX"
      },
      "execution_count": null,
      "outputs": []
    },
    {
      "cell_type": "code",
      "source": [],
      "metadata": {
        "id": "NNVU0oJpSF7O"
      },
      "execution_count": null,
      "outputs": []
    },
    {
      "cell_type": "markdown",
      "source": [
        "- Make sure to remove the first row, which now has become the column names"
      ],
      "metadata": {
        "id": "j9JPHcgcetB4"
      }
    },
    {
      "cell_type": "code",
      "source": [],
      "metadata": {
        "id": "gLl-NPoxSiuv"
      },
      "execution_count": null,
      "outputs": []
    },
    {
      "cell_type": "markdown",
      "source": [
        "### Use 'head' to inspect your table and make sure it looks as below:\n",
        "\n",
        "\tDate of test Test number\tCountry\tAge Y/M**\n",
        "\n",
        "1\t2023-04-13\t2334000487D\tSpain\t3Years 11Months\n",
        "\n",
        "2\t2023-04-13\t2331000683D\tNetherland\t2Years 8Months\n",
        "\n",
        "3\t2023-04-13\t2331000884D\tGermany\t2Years 8Months\n",
        "\n",
        "4\t2023-04-13\t2331000880D\tGermany\t7Years 9Months\n",
        "\n",
        "5\t2023-04-13\t2331000851D\tNetherland\t11Years 11Months"
      ],
      "metadata": {
        "id": "UCIywvdoe8dt"
      }
    },
    {
      "cell_type": "code",
      "source": [],
      "metadata": {
        "id": "kbloxM7FWPlc"
      },
      "execution_count": null,
      "outputs": []
    },
    {
      "cell_type": "markdown",
      "source": [
        "### Rename the Metadata columns\n",
        "- rename the columns 'Date of test' to 'Date', 'Test number' to 'TestID' and 'Age Y/M' to 'Age (M)'"
      ],
      "metadata": {
        "id": "-fM9HLLNZXNi"
      }
    },
    {
      "cell_type": "code",
      "source": [],
      "metadata": {
        "id": "_LWmnfKCtH0i"
      },
      "execution_count": null,
      "outputs": []
    },
    {
      "cell_type": "markdown",
      "source": [
        "### Convert the Age column\n",
        "The function below converts a string into a number of total month e.g.:\n",
        "\n",
        "\"2Years 8Months\" convert to 32.0\n",
        "\n",
        "- use the below function to convert each 'string' from the Age column into a number (float)\n",
        "- Hint: check the function '.apply(convert_to_month)' which works on a dataframe column"
      ],
      "metadata": {
        "id": "5b6bsj-atFuq"
      }
    },
    {
      "cell_type": "code",
      "source": [
        "import re\n",
        "\n",
        "def convert_to_months(duration_str):\n",
        "        # Check for missing or empty entries\n",
        "    if pd.isnull(duration_str) or duration_str.strip() == \"\":\n",
        "        return None\n",
        "\n",
        "\n",
        "    # Regular expression to find years and months in the input string\n",
        "    year_pattern = re.compile(r\"(\\d+)\\s*Years?\")\n",
        "    month_pattern = re.compile(r\"(\\d+)\\s*Months?\")\n",
        "\n",
        "    # Search for years and months in the input string\n",
        "    years_match = year_pattern.search(duration_str)\n",
        "    months_match = month_pattern.search(duration_str)\n",
        "\n",
        "    # Extract years and months from the matches\n",
        "    years = int(years_match.group(1)) if years_match else 0\n",
        "    months = int(months_match.group(1)) if months_match else 0\n",
        "\n",
        "    # Convert years to months and add to months\n",
        "    total_months = (years * 12) + months\n",
        "\n",
        "    return int(total_months)\n"
      ],
      "metadata": {
        "id": "qb0qxwYabnxg"
      },
      "execution_count": null,
      "outputs": []
    },
    {
      "cell_type": "code",
      "source": [
        "# convert md['Age (M)'] to number\n",
        "# write your code here:\n",
        "\n",
        "\n"
      ],
      "metadata": {
        "id": "Tmqa7N1Dc72Q"
      },
      "execution_count": null,
      "outputs": []
    },
    {
      "cell_type": "markdown",
      "source": [
        "Check the result with 'head'"
      ],
      "metadata": {
        "id": "uG_SBjqjt8pg"
      }
    },
    {
      "cell_type": "code",
      "source": [],
      "metadata": {
        "id": "ATSXGe5IfEaD"
      },
      "execution_count": null,
      "outputs": []
    },
    {
      "cell_type": "markdown",
      "source": [
        "### Rename the columns of expr\n",
        "- use the Test Number from md['Test number'] as new column names for the expr data"
      ],
      "metadata": {
        "id": "sY4MxunMXKIn"
      }
    },
    {
      "cell_type": "code",
      "source": [],
      "metadata": {
        "id": "IYVz2rJDWV8L"
      },
      "execution_count": null,
      "outputs": []
    },
    {
      "cell_type": "markdown",
      "source": [
        "### Print the shapes of both tables\n",
        "- check if the number of columns in expr matches the number of rows in md"
      ],
      "metadata": {
        "id": "rDGDdLM8XphK"
      }
    },
    {
      "cell_type": "markdown",
      "source": [
        "### Dropping duplicates and keep='first'"
      ],
      "metadata": {
        "id": "nOLYa7r6fk2t"
      }
    },
    {
      "cell_type": "code",
      "source": [
        "# This function can be use to inspect if there a duplictes within a column\n",
        "md['TestID'].duplicated()"
      ],
      "metadata": {
        "id": "e7XyxZV5SHBb"
      },
      "execution_count": null,
      "outputs": []
    },
    {
      "cell_type": "code",
      "source": [
        "# remove duplicate values in TestID column\n",
        "# Hint: check the function: 'drop_duplicates'\n",
        "# Hint: use the parameter 'keep='first'' to keep the first occurance and remove following duplicates\n"
      ],
      "metadata": {
        "id": "bEKgsnPafkRb"
      },
      "execution_count": null,
      "outputs": []
    },
    {
      "cell_type": "markdown",
      "source": [
        "### Don't forget to drop the duplicates on the expression data as well:"
      ],
      "metadata": {
        "id": "CjgXThY1f8FS"
      }
    },
    {
      "cell_type": "code",
      "source": [
        "# example:\n",
        "\n",
        "# df = df.loc[:, ~df.columns.duplicated()]\n",
        "\n",
        "# where df.columns.duplicated(): returns a boolean array of duplicates\n",
        "# ~ negates the boolean values: True is False and False is True\n"
      ],
      "metadata": {
        "id": "_9b1mQlLgHOe"
      },
      "execution_count": null,
      "outputs": []
    },
    {
      "cell_type": "markdown",
      "source": [
        "### Print the shapes of both table and make sure the number of rows in md and the number of columns in expr are matching"
      ],
      "metadata": {
        "id": "ilTwsoAtiJxc"
      }
    },
    {
      "cell_type": "markdown",
      "source": [
        "### Saving the DATA\n",
        "After initial cleaning, let's save the data in its current form:\n",
        "- save both tables as csv file in the current directory"
      ],
      "metadata": {
        "id": "3J5PXgF6JDmz"
      }
    },
    {
      "cell_type": "code",
      "source": [],
      "metadata": {
        "id": "7XaJwznRJisK"
      },
      "execution_count": null,
      "outputs": []
    },
    {
      "cell_type": "markdown",
      "source": [
        "### Subsetting the data\n",
        "- subset the metadata and expression data to county = 'Spain'\n",
        "\n",
        "Hint: use the TestID on the filtered data to subset on the expression data"
      ],
      "metadata": {
        "id": "gMFOzMKyM4_0"
      }
    },
    {
      "cell_type": "code",
      "source": [
        "md_spain = md.loc[md.Country == 'Spain', :]\n",
        "\n",
        "testIdSpain = md.TestID[md.Country == 'Spain']"
      ],
      "metadata": {
        "id": "_eFTKBZGNMgI"
      },
      "execution_count": null,
      "outputs": []
    },
    {
      "cell_type": "markdown",
      "source": [
        "- Print the shapes to check the result"
      ],
      "metadata": {
        "id": "jlFeuh7lwT5G"
      }
    },
    {
      "cell_type": "code",
      "source": [],
      "metadata": {
        "id": "bU2obVLnPZiH"
      },
      "execution_count": null,
      "outputs": []
    },
    {
      "cell_type": "markdown",
      "source": [
        "# Exploration of the expression data\n",
        "To gain an initial understanding of the expression data, we need to filter out the noise. Currently, noise is defined as values below 30.\n",
        "\n",
        "- Convert the expr dataframe into a numpy array\n",
        "- Set values below 30 to 0.0\n",
        "\n",
        "Remove rows were all values are 0\n",
        "- use the 'sum' method (axsis = 1) to the the sums of each row\n",
        "- use this rowsum values to subset the array"
      ],
      "metadata": {
        "id": "N9F2SKGsKHB_"
      }
    },
    {
      "cell_type": "code",
      "source": [
        "# Convert to numpy\n"
      ],
      "metadata": {
        "id": "oL1ccxGwKAvi"
      },
      "execution_count": null,
      "outputs": []
    },
    {
      "cell_type": "code",
      "source": [
        "# Set values below 30 to 0\n",
        "# Hint:\n",
        "# 'my_array < value' will return a boolean array which can be used\n"
      ],
      "metadata": {
        "id": "pveqaIH8LJhH"
      },
      "execution_count": null,
      "outputs": []
    },
    {
      "cell_type": "code",
      "source": [
        "# Calculate row sums\n",
        "\n",
        "\n",
        "# Filter rows where the sum is not 0\n"
      ],
      "metadata": {
        "id": "5RgqJExRQLfh"
      },
      "execution_count": null,
      "outputs": []
    },
    {
      "cell_type": "markdown",
      "source": [
        "### Visualize the Expression Data\n",
        "\n",
        "The follwing code is provided. Just make sure you replace the names of the variables with your variable names."
      ],
      "metadata": {
        "id": "x3L9CpZ2L-Ek"
      }
    },
    {
      "cell_type": "code",
      "source": [
        "import seaborn as sns\n",
        "# import pandas as pd\n",
        "from sklearn.cluster import KMeans  # Example clustering algorithm\n",
        "from sklearn.preprocessing import StandardScaler"
      ],
      "metadata": {
        "id": "nOyW1XMvLu_Q"
      },
      "execution_count": null,
      "outputs": []
    },
    {
      "cell_type": "code",
      "source": [
        "# Standardize data (optional)\n",
        "scaler = StandardScaler()\n",
        "scaled_exp = scaler.fit_transform(filtered_df) # use the name of your array"
      ],
      "metadata": {
        "id": "U6smHFUIL7_M"
      },
      "execution_count": null,
      "outputs": []
    },
    {
      "cell_type": "code",
      "source": [
        "# Create the clustermap with hierarchical clustering\n",
        "sns.clustermap(scaled_exp,\n",
        "               method='ward',  # Linkage method (ward, single, complete, average, etc.)\n",
        "               metric='euclidean',  # Distance metric (euclidean, cityblock, etc.)\n",
        "               cmap=\"YlGnBu\",       # Colormap\n",
        "               figsize=(10, 8))    # Figure size"
      ],
      "metadata": {
        "id": "ZBG43Yg6MW0h"
      },
      "execution_count": null,
      "outputs": []
    },
    {
      "cell_type": "markdown",
      "source": [
        "### Right click the plot and save the heatmap as image\n",
        "\n",
        "# Done. Congratulations!"
      ],
      "metadata": {
        "id": "qYo7-frTTQsF"
      }
    }
  ]
}